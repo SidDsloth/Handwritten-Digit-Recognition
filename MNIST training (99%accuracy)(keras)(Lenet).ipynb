{
 "cells": [
  {
   "cell_type": "code",
   "execution_count": 1,
   "metadata": {},
   "outputs": [],
   "source": [
    "from PIL import Image"
   ]
  },
  {
   "cell_type": "code",
   "execution_count": 2,
   "metadata": {},
   "outputs": [
    {
     "name": "stderr",
     "output_type": "stream",
     "text": [
      "Using TensorFlow backend.\n"
     ]
    }
   ],
   "source": [
    "import numpy as np\n",
    "from keras.layers import Dense, Conv2D, Dropout, Flatten, MaxPooling2D\n",
    "from keras.models import Sequential\n",
    "from keras.preprocessing import image\n",
    "from keras.utils import layer_utils\n",
    "from keras.utils.data_utils import get_file\n",
    "from keras.applications.imagenet_utils import preprocess_input\n",
    "import pydot\n",
    "from IPython.display import SVG\n",
    "from keras.utils.vis_utils import model_to_dot\n",
    "from keras.utils import plot_model\n",
    "\n",
    "import keras.backend as K\n",
    "K.set_image_data_format('channels_last')\n",
    "import matplotlib.pyplot as plt\n",
    "%matplotlib inline\n",
    "import tensorflow as tf\n",
    "from IPython.display import display"
   ]
  },
  {
   "cell_type": "code",
   "execution_count": 3,
   "metadata": {},
   "outputs": [],
   "source": [
    "mnist = tf.keras.datasets.mnist\n",
    "(x_train, y_train),(x_test, y_test) = mnist.load_data()\n",
    "x_train, x_test = x_train / 255.0, x_test / 255.0"
   ]
  },
  {
   "cell_type": "code",
   "execution_count": 4,
   "metadata": {},
   "outputs": [
    {
     "name": "stdout",
     "output_type": "stream",
     "text": [
      "y = 1\n"
     ]
    },
    {
     "data": {
      "image/png": "[encoded data removed]",
      "text/plain": [
       "<Figure size 432x288 with 1 Axes>"
      ]
     },
     "metadata": {
      "needs_background": "light"
     },
     "output_type": "display_data"
    }
   ],
   "source": [
    "# Example of a picture\n",
    "index = 6\n",
    "plt.imshow(x_train[index])\n",
    "print (\"y = \" + str(y_train[index]))"
   ]
  },
  {
   "cell_type": "code",
   "execution_count": 5,
   "metadata": {},
   "outputs": [
    {
     "name": "stdout",
     "output_type": "stream",
     "text": [
      "Number of training examples: 60000\n",
      "Number of testing examples: 10000\n",
      "Each image is of size: (28, 28)\n",
      "train_x_orig shape: (60000, 28, 28)\n",
      "train_y shape: (60000,)\n",
      "test_x_orig shape: (10000, 28, 28)\n",
      "test_y shape: (10000,)\n"
     ]
    }
   ],
   "source": [
    "# Explore your dataset \n",
    "m_train = x_train.shape[0]\n",
    "num_px = x_train.shape[1]\n",
    "m_test = x_test.shape[0]\n",
    "\n",
    "print (\"Number of training examples: \" + str(m_train))\n",
    "print (\"Number of testing examples: \" + str(m_test))\n",
    "print (\"Each image is of size: (\" + str(num_px) + \", \" + str(num_px)+\")\")\n",
    "print (\"train_x_orig shape: \" + str(x_train.shape))\n",
    "print (\"train_y shape: \" + str(y_train.shape))\n",
    "print (\"test_x_orig shape: \" + str(x_test.shape))\n",
    "print (\"test_y shape: \" + str(y_test.shape))"
   ]
  },
  {
   "cell_type": "code",
   "execution_count": 6,
   "metadata": {},
   "outputs": [
    {
     "name": "stdout",
     "output_type": "stream",
     "text": [
      "train_x's shape: (60000, 28, 28, 1)\n",
      "test_x's shape: (10000, 28, 28, 1)\n"
     ]
    }
   ],
   "source": [
    "# Reshape the training and test examples \n",
    "train_x = x_train.reshape((60000,28,28,1)) # The \"-1\" makes reshape flatten the remaining dimensions\n",
    "test_x= x_test.reshape((10000,28,28,1))\n",
    "input_shape=(28,28,1)\n",
    "train_x=train_x.astype('float32')\n",
    "test_x=test_x.astype('float32')\n",
    "\n",
    "print (\"train_x's shape: \" + str(train_x.shape))\n",
    "print (\"test_x's shape: \" + str(test_x.shape))"
   ]
  },
  {
   "cell_type": "code",
   "execution_count": 7,
   "metadata": {},
   "outputs": [],
   "source": [
    "model=Sequential()\n",
    "model.add(Conv2D(28,kernel_size=(3,3),input_shape=input_shape))\n",
    "model.add(MaxPooling2D(pool_size=(2,2)))\n",
    "model.add(Flatten())\n",
    "model.add(Dense(128,activation=tf.nn.relu))\n",
    "model.add(Dropout(0.2))\n",
    "model.add(Dense(10,activation=tf.nn.softmax))"
   ]
  },
  {
   "cell_type": "code",
   "execution_count": 8,
   "metadata": {},
   "outputs": [],
   "source": [
    "model=Sequential()\n",
    "model.add(Conv2D(6,kernel_size=(1,1),input_shape=input_shape))\n",
    "model.add(MaxPooling2D(pool_size=(2,2),strides=2))\n",
    "model.add(Conv2D(16,kernel_size=(5,5),input_shape=(14,14,6)))\n",
    "model.add(MaxPooling2D(pool_size=(2,2),strides=2))\n",
    "model.add(Flatten())\n",
    "model.add(Dense(120,activation=tf.nn.relu))\n",
    "model.add(Dense(84,activation=tf.nn.relu))\n",
    "model.add(Dense(10,activation=tf.nn.softmax))"
   ]
  },
  {
   "cell_type": "code",
   "execution_count": 9,
   "metadata": {},
   "outputs": [],
   "source": [
    "model.compile(optimizer='adam',loss='sparse_categorical_crossentropy',metrics=['accuracy'])"
   ]
  },
  {
   "cell_type": "code",
   "execution_count": 10,
   "metadata": {},
   "outputs": [
    {
     "name": "stdout",
     "output_type": "stream",
     "text": [
      "Epoch 1/30\n",
      "60000/60000 [==============================] - 37s 609us/step - loss: 0.2015 - acc: 0.9387\n",
      "Epoch 2/30\n",
      "60000/60000 [==============================] - 24s 399us/step - loss: 0.0735 - acc: 0.9768\n",
      "Epoch 3/30\n",
      "60000/60000 [==============================] - 24s 401us/step - loss: 0.0518 - acc: 0.9835\n",
      "Epoch 4/30\n",
      "60000/60000 [==============================] - 24s 401us/step - loss: 0.0404 - acc: 0.9872\n",
      "Epoch 5/30\n",
      "60000/60000 [==============================] - 24s 401us/step - loss: 0.0328 - acc: 0.9890\n",
      "Epoch 6/30\n",
      "60000/60000 [==============================] - 25s 410us/step - loss: 0.0269 - acc: 0.9914\n",
      "Epoch 7/30\n",
      "60000/60000 [==============================] - 24s 406us/step - loss: 0.0234 - acc: 0.9923\n",
      "Epoch 8/30\n",
      "60000/60000 [==============================] - 26s 426us/step - loss: 0.0197 - acc: 0.9931\n",
      "Epoch 9/30\n",
      "60000/60000 [==============================] - 24s 399us/step - loss: 0.0181 - acc: 0.9942\n",
      "Epoch 10/30\n",
      "60000/60000 [==============================] - 24s 406us/step - loss: 0.0161 - acc: 0.9946\n",
      "Epoch 11/30\n",
      "60000/60000 [==============================] - 24s 397us/step - loss: 0.0146 - acc: 0.9955\n",
      "Epoch 12/30\n",
      "60000/60000 [==============================] - 24s 401us/step - loss: 0.0126 - acc: 0.9958\n",
      "Epoch 13/30\n",
      "60000/60000 [==============================] - 24s 395us/step - loss: 0.0137 - acc: 0.9954\n",
      "Epoch 14/30\n",
      "60000/60000 [==============================] - 24s 408us/step - loss: 0.0108 - acc: 0.9965\n",
      "Epoch 15/30\n",
      "60000/60000 [==============================] - 24s 399us/step - loss: 0.0105 - acc: 0.9970\n",
      "Epoch 16/30\n",
      "60000/60000 [==============================] - 24s 403us/step - loss: 0.0109 - acc: 0.99650s - loss: 0.0105\n",
      "Epoch 17/30\n",
      "60000/60000 [==============================] - 24s 395us/step - loss: 0.0099 - acc: 0.9970\n",
      "Epoch 18/30\n",
      "60000/60000 [==============================] - 24s 404us/step - loss: 0.0082 - acc: 0.9973\n",
      "Epoch 19/30\n",
      "60000/60000 [==============================] - 25s 412us/step - loss: 0.0087 - acc: 0.9970\n",
      "Epoch 20/30\n",
      "60000/60000 [==============================] - 24s 403us/step - loss: 0.0080 - acc: 0.9976\n",
      "Epoch 21/30\n",
      "60000/60000 [==============================] - 25s 411us/step - loss: 0.0076 - acc: 0.9977\n",
      "Epoch 22/30\n",
      "60000/60000 [==============================] - 25s 410us/step - loss: 0.0083 - acc: 0.9976\n",
      "Epoch 23/30\n",
      "60000/60000 [==============================] - 24s 397us/step - loss: 0.0069 - acc: 0.9977\n",
      "Epoch 24/30\n",
      "60000/60000 [==============================] - 26s 435us/step - loss: 0.0087 - acc: 0.9975\n",
      "Epoch 25/30\n",
      "60000/60000 [==============================] - 27s 452us/step - loss: 0.0063 - acc: 0.9980\n",
      "Epoch 26/30\n",
      "60000/60000 [==============================] - 28s 462us/step - loss: 0.0070 - acc: 0.9979\n",
      "Epoch 27/30\n",
      "60000/60000 [==============================] - 30s 497us/step - loss: 0.0062 - acc: 0.9981\n",
      "Epoch 28/30\n",
      "60000/60000 [==============================] - 26s 434us/step - loss: 0.0065 - acc: 0.9980\n",
      "Epoch 29/30\n",
      "60000/60000 [==============================] - 25s 417us/step - loss: 0.0055 - acc: 0.9985\n",
      "Epoch 30/30\n",
      "60000/60000 [==============================] - 25s 416us/step - loss: 0.0049 - acc: 0.9986\n"
     ]
    },
    {
     "data": {
      "text/plain": [
       "<keras.callbacks.History at 0x18b72e531d0>"
      ]
     },
     "execution_count": 10,
     "metadata": {},
     "output_type": "execute_result"
    }
   ],
   "source": [
    "model.fit(x=train_x,y=y_train,epochs=30)"
   ]
  },
  {
   "cell_type": "code",
   "execution_count": 12,
   "metadata": {},
   "outputs": [
    {
     "name": "stdout",
     "output_type": "stream",
     "text": [
      "10000/10000 [==============================] - 2s 178us/step\n",
      "\n",
      "Loss = 0.06743488960523318\n",
      "Test Accuracy = 0.9875\n"
     ]
    }
   ],
   "source": [
    "preds = model.evaluate(x=test_x,y=y_test)\n",
    "print()\n",
    "print (\"Loss = \" + str(preds[0]))\n",
    "print (\"Test Accuracy = \" + str(preds[1]))"
   ]
  },
  {
   "cell_type": "code",
   "execution_count": 26,
   "metadata": {},
   "outputs": [
    {
     "name": "stdout",
     "output_type": "stream",
     "text": [
      "Predicted No is:  3\n"
     ]
    },
    {
     "data": {
      "image/png": "[encoded data removed]",
      "text/plain": [
       "<Figure size 432x288 with 1 Axes>"
      ]
     },
     "metadata": {
      "needs_background": "light"
     },
     "output_type": "display_data"
    }
   ],
   "source": [
    "image_index=231\n",
    "plt.imshow(x_test[image_index].reshape(28,28),cmap='Greys')\n",
    "pred=model.predict(x_test[image_index].reshape(1, 28,28, 1))\n",
    "print(\"Predicted No is: \",pred.argmax())"
   ]
  },
  {
   "cell_type": "code",
   "execution_count": 28,
   "metadata": {},
   "outputs": [
    {
     "name": "stdout",
     "output_type": "stream",
     "text": [
      "Predicted No is:  3\n"
     ]
    },
    {
     "data": {
      "image/png": "[encoded data removed]",
      "text/plain": [
       "<Figure size 432x288 with 1 Axes>"
      ]
     },
     "metadata": {
      "needs_background": "light"
     },
     "output_type": "display_data"
    }
   ],
   "source": [
    "img_path = 'images/zero.png'\n",
    "img = image.load_img(img_path, target_size=(28, 28),color_mode=\"grayscale\")\n",
    "plt.imshow(img)\n",
    "x = image.img_to_array(img)\n",
    "pred=model.predict(x.reshape(1, 28,28, 1))\n",
    "print(\"Predicted No is: \",pred.argmax())"
   ]
  },
  {
   "cell_type": "code",
   "execution_count": null,
   "metadata": {},
   "outputs": [],
   "source": []
  },
  {
   "cell_type": "code",
   "execution_count": null,
   "metadata": {},
   "outputs": [],
   "source": []
  }
 ],
 "metadata": {
  "kernelspec": {
   "display_name": "Python 3",
   "language": "python",
   "name": "python3"
  },
  "language_info": {
   "codemirror_mode": {
    "name": "ipython",
    "version": 3
   },
   "file_extension": ".py",
   "mimetype": "text/x-python",
   "name": "python",
   "nbconvert_exporter": "python",
   "pygments_lexer": "ipython3",
   "version": "3.6.6"
  }
 },
 "nbformat": 4,
 "nbformat_minor": 2
}
